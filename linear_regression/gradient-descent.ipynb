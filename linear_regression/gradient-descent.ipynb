{
 "cells": [
  {
   "cell_type": "markdown",
   "metadata": {},
   "source": [
    "# Gradient Descent"
   ]
  },
  {
   "cell_type": "markdown",
   "metadata": {},
   "source": [
    "## Basic Concept"
   ]
  },
  {
   "cell_type": "code",
   "execution_count": 21,
   "metadata": {},
   "outputs": [
    {
     "name": "stdout",
     "output_type": "stream",
     "text": [
      "1.3066372470001369e-21\n"
     ]
    }
   ],
   "source": [
    "import numpy as np\n",
    "import matplotlib.pyplot as plt\n",
    "\n",
    "# J(w) = w**2\n",
    "# @J/@w = 2*w\n",
    "\n",
    "w = 20\n",
    "step = 0.01\n",
    "for n in range(100):\n",
    "    w = w - 0.2*(2*w)\n",
    "print(w)"
   ]
  },
  {
   "cell_type": "markdown",
   "metadata": {},
   "source": [
    "## Basic Implementation  \n",
    "\n",
    "> Yhat = X.dot(w)  \n",
    "> delta = Yhat-Y  \n",
    "> w = w - learning_rate*X.T.dot.(delta)  "
   ]
  },
  {
   "cell_type": "code",
   "execution_count": 14,
   "metadata": {},
   "outputs": [
    {
     "data": {
      "text/plain": [
       "array([[1., 1., 0.],\n",
       "       [1., 1., 0.],\n",
       "       [1., 1., 0.],\n",
       "       [1., 1., 0.],\n",
       "       [1., 1., 0.],\n",
       "       [1., 0., 1.],\n",
       "       [1., 0., 1.],\n",
       "       [1., 0., 1.],\n",
       "       [1., 0., 1.],\n",
       "       [1., 0., 1.]])"
      ]
     },
     "execution_count": 14,
     "metadata": {},
     "output_type": "execute_result"
    }
   ],
   "source": [
    "# Input Data\n",
    "N = 10\n",
    "D = 3\n",
    "X = np.zeros((N,D))\n",
    "X[:,0] = 1 # bias term \n",
    "X[:5,1] = 1\n",
    "X[5:,2] = 1\n",
    "X"
   ]
  },
  {
   "cell_type": "code",
   "execution_count": 16,
   "metadata": {},
   "outputs": [
    {
     "data": {
      "text/plain": [
       "array([0, 0, 0, 0, 0, 1, 1, 1, 1, 1])"
      ]
     },
     "execution_count": 16,
     "metadata": {},
     "output_type": "execute_result"
    }
   ],
   "source": [
    "# Target Data \n",
    "Y = np.array([0]*5 + [1]*5)\n",
    "Y"
   ]
  },
  {
   "cell_type": "code",
   "execution_count": 24,
   "metadata": {},
   "outputs": [
    {
     "name": "stdout",
     "output_type": "stream",
     "text": [
      "final w =  [ 0.59673401 -0.59062748  0.39715936]\n"
     ]
    }
   ],
   "source": [
    "# gradient descent \n",
    "costs = []\n",
    "w = np.random.randn(D) / np.sqrt(D) # randomly initialize weight \n",
    "learning_rate = 0.001\n",
    "for t in range(1000):\n",
    "    # update w\n",
    "    Yhat = X.dot(w)\n",
    "    delta = Yhat - Y \n",
    "    w = w - learning_rate * X.T.dot(delta)\n",
    "    \n",
    "    # find and store the cost\n",
    "    mse = delta.dot(delta) / N\n",
    "    costs.append(mse)\n",
    "\n",
    "print('final w = ', w)"
   ]
  },
  {
   "cell_type": "code",
   "execution_count": 23,
   "metadata": {},
   "outputs": [
    {
     "data": {
      "image/png": "[encoded data removed]",
      "text/plain": [
       "<matplotlib.figure.Figure at 0x19e6996a710>"
      ]
     },
     "metadata": {},
     "output_type": "display_data"
    }
   ],
   "source": [
    "# plot cost\n",
    "plt.plot(costs)\n",
    "plt.show()"
   ]
  },
  {
   "cell_type": "code",
   "execution_count": 25,
   "metadata": {},
   "outputs": [
    {
     "data": {
      "image/png": "[encoded data removed]",
      "text/plain": [
       "<matplotlib.figure.Figure at 0x19e6055c0f0>"
      ]
     },
     "metadata": {},
     "output_type": "display_data"
    }
   ],
   "source": [
    "# plot Yhat and Y \n",
    "plt.plot(Yhat, label='prediction')\n",
    "plt.plot(Y, label='target')\n",
    "plt.legend()\n",
    "plt.show()"
   ]
  }
 ],
 "metadata": {
  "kernelspec": {
   "display_name": "Python 3",
   "language": "python",
   "name": "python3"
  },
  "language_info": {
   "codemirror_mode": {
    "name": "ipython",
    "version": 3
   },
   "file_extension": ".py",
   "mimetype": "text/x-python",
   "name": "python",
   "nbconvert_exporter": "python",
   "pygments_lexer": "ipython3",
   "version": "3.6.4"
  }
 },
 "nbformat": 4,
 "nbformat_minor": 2
}
