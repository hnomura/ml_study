{
 "cells": [
  {
   "cell_type": "markdown",
   "metadata": {},
   "source": [
    "# 1D Linear Regression  \n",
    "\n",
    "objective function / error function / const function := same thing\n",
    "\n",
    "```\n",
    "D = sum[ (yi - (axi + b))^2 ]   \n",
    "D/@a = sum[ 2(yi - (axi+b))(-xi) ]  \n",
    "    = -2sum(xi.yi) + 2a.sum(xi^2) + 2b.sum(xi) = 0    \n",
    "       a.sum(xi^2) + b.sum(xi) = sum(xi.yi)\n",
    "       a.ave(xi^2) + b.ave(xi) = ave(xi.yi)\n",
    "    \n",
    "D/@b = sum[ 2(yi - (axi+b))(-1) ]   \n",
    "    = -2sum(yi) + 2a.sum(xi) + 2b.sum(1) = 0 \n",
    "       a.sum(xi) + bN = sum(yi)\n",
    "       a.ave(xi) + bN = ave(yi) \n",
    "```\n",
    "\n"
   ]
  }
 ],
 "metadata": {
  "kernelspec": {
   "display_name": "Python 3",
   "language": "python",
   "name": "python3"
  },
  "language_info": {
   "codemirror_mode": {
    "name": "ipython",
    "version": 3
   },
   "file_extension": ".py",
   "mimetype": "text/x-python",
   "name": "python",
   "nbconvert_exporter": "python",
   "pygments_lexer": "ipython3",
   "version": "3.6.4"
  }
 },
 "nbformat": 4,
 "nbformat_minor": 2
}
