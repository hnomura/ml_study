{
 "cells": [
  {
   "cell_type": "markdown",
   "metadata": {},
   "source": [
    "# 1D Linear Regression  \n",
    "\n",
    "objective function / error function / cost function := same thing\n",
    "\n",
    "NOTE : `@f/@x = (@f/@u) * (@u/@x)`   \n",
    "\n",
    "```\n",
    "E = sum[ (yi - (axi + b))^2 ]   \n",
    "@E/@a = sum[ 2(yi - (axi+b))(-xi) ]  \n",
    "      = -2sum(xi.yi) + 2a.sum(xi^2) + 2b.sum(xi) = 0    \n",
    "         a.sum(xi^2) + b.sum(xi) = sum(xi.yi)\n",
    "         a.ave(xi^2) + b.ave(xi) = ave(xi.yi)\n",
    "    \n",
    "@E/@b = sum[ 2(yi - (axi+b))(-1) ]   \n",
    "      = -2sum(yi) + 2a.sum(xi) + 2b.sum(1) = 0 \n",
    "         a.sum(xi) + bN = sum(yi)\n",
    "         a.ave(xi) + b = ave(yi) \n",
    "       \n",
    " [[ ave(xi^2),  ave(xi) ], *   [[a],  =  [[ave(xi.yi)],\n",
    "  [ ave(xi),    1       ]]      [b]]      [ave(yi)]]\n",
    "       \n",
    "                       1\n",
    " [[a],   =   ---------------------   [[ 1,         -ave(xi)],   * [[ave(xi.yi)],\n",
    "  [b]]       ave(xi^2) - ave(xi)^2    [-ave(xi),   ave(xi^2)]      [ave(yi)]]\n",
    "       \n",
    "     mean(xi.yi) - mean(xi).mean(yi)                   sum(xi.yi) - sum(xi).mean(yi)\n",
    "a =  ---------------------------------          =    ---------------------------------\n",
    "      mean(xi^2) - mean(xi)^2                         sum(xi^2) - sum(xi)*mean(xi)\n",
    "      \n",
    "\n",
    "     mean(yi).mean(xi^2) - mean(xi).mean(xi.yi)        mean(yi).sum(xi^2) - mean(xi).sum(xi.yi)\n",
    "b =  ------------------------------------------ =    ---------------------------------------------\n",
    "      mean(xi^2) - mean(xi)^2                         sum(xi^2) - sum(xi)*mean(xi)\n",
    "\n",
    "```"
   ]
  },
  {
   "cell_type": "markdown",
   "metadata": {},
   "source": [
    "## Using data_1d.csv"
   ]
  },
  {
   "cell_type": "code",
   "execution_count": 3,
   "metadata": {},
   "outputs": [],
   "source": [
    "import numpy as np\n",
    "import matplotlib.pyplot as plt"
   ]
  },
  {
   "cell_type": "code",
   "execution_count": 5,
   "metadata": {},
   "outputs": [],
   "source": [
    "X = []\n",
    "Y = []\n",
    "\n",
    "# load from file\n",
    "for line in open('data_1d.csv'):\n",
    "    x,y = line.split(',')\n",
    "    X.append(float(x))\n",
    "    Y.append(float(y))"
   ]
  },
  {
   "cell_type": "code",
   "execution_count": 8,
   "metadata": {},
   "outputs": [],
   "source": [
    "# To numpy array \n",
    "X = np.array(X)\n",
    "Y = np.array(Y)"
   ]
  },
  {
   "cell_type": "code",
   "execution_count": 10,
   "metadata": {},
   "outputs": [
    {
     "data": {
      "image/png": "[encoded data removed]",
      "text/plain": [
       "<matplotlib.figure.Figure at 0x147a3b0a080>"
      ]
     },
     "metadata": {},
     "output_type": "display_data"
    }
   ],
   "source": [
    "# Plot data \n",
    "plt.scatter(X,Y)\n",
    "plt.show()"
   ]
  },
  {
   "cell_type": "code",
   "execution_count": 12,
   "metadata": {},
   "outputs": [],
   "source": [
    "# Apply the equations we learned to calculate a and b \n",
    "denominator = X.dot(X) - X.mean() * X.sum()\n",
    "a = ( X.dot(Y) - Y.mean()*X.sum() ) / denominator \n",
    "b = ( Y.mean()*X.dot(X) - X.mean()*X.dot(Y) ) / denominator "
   ]
  },
  {
   "cell_type": "code",
   "execution_count": 16,
   "metadata": {},
   "outputs": [
    {
     "data": {
      "image/png": "[encoded data removed]",
      "text/plain": [
       "<matplotlib.figure.Figure at 0x147a3655668>"
      ]
     },
     "metadata": {},
     "output_type": "display_data"
    }
   ],
   "source": [
    "# Plot predicted Y \n",
    "Yhat = a*X + b \n",
    "\n",
    "plt.scatter(X,Y)\n",
    "plt.plot(X,Yhat,'r-')\n",
    "plt.show()"
   ]
  },
  {
   "cell_type": "code",
   "execution_count": 25,
   "metadata": {},
   "outputs": [
    {
     "name": "stdout",
     "output_type": "stream",
     "text": [
      "the R-square =  0.9911838202977805\n"
     ]
    }
   ],
   "source": [
    "# R square\n",
    "d1 = Y - Yhat \n",
    "d2 = Y - Y.mean()\n",
    "SSres = d1.dot(d1)                \n",
    "SStot = d2.dot(d2)\n",
    "E = 1 - SSres/SStot \n",
    "print('the R-square = ', E)"
   ]
  },
  {
   "cell_type": "markdown",
   "metadata": {},
   "source": [
    "## Moore's law"
   ]
  },
  {
   "cell_type": "code",
   "execution_count": 37,
   "metadata": {},
   "outputs": [
    {
     "data": {
      "image/png": "[encoded data removed]",
      "text/plain": [
       "<matplotlib.figure.Figure at 0x147a3c216a0>"
      ]
     },
     "metadata": {},
     "output_type": "display_data"
    },
    {
     "data": {
      "image/png": "[encoded data removed]",
      "text/plain": [
       "<matplotlib.figure.Figure at 0x147a3c21518>"
      ]
     },
     "metadata": {},
     "output_type": "display_data"
    }
   ],
   "source": [
    "import re    # regular expression \n",
    "import numpy as np \n",
    "import matplotlib.pyplot as plt \n",
    "\n",
    "X = [] \n",
    "Y = []\n",
    "\n",
    "non_decimal = re.compile(r'[^\\d]+')\n",
    "for line in open('moore.csv'):\n",
    "    r = line.split('\\t')\n",
    "    x = int(non_decimal.sub('', r[2].split('[')[0]))\n",
    "    y = int(non_decimal.sub('', r[1].split('[')[0]))\n",
    "    X.append(x)\n",
    "    Y.append(y)\n",
    "    \n",
    "X = np.array(X)\n",
    "Y = np.array(Y) \n",
    "\n",
    "plt.scatter(X,Y)\n",
    "plt.title('Linear Scale')\n",
    "plt.show()\n",
    "\n",
    "Y = np.log(Y)\n",
    "plt.scatter(X,Y)\n",
    "plt.title('LogY')\n",
    "plt.show()"
   ]
  },
  {
   "cell_type": "code",
   "execution_count": 40,
   "metadata": {},
   "outputs": [],
   "source": [
    "denominator = X.dot(X) - X.mean()*X.sum()\n",
    "a = ( X.dot(Y) - Y.mean()*X.sum() ) / denominator \n",
    "b = ( Y.mean()*X.dot(X) - X.mean()*X.dot(Y) ) / denominator \n",
    "\n",
    "Yhat = a*X + b "
   ]
  },
  {
   "cell_type": "code",
   "execution_count": 43,
   "metadata": {},
   "outputs": [
    {
     "data": {
      "image/png": "[encoded data removed]",
      "text/plain": [
       "<matplotlib.figure.Figure at 0x147a3c010f0>"
      ]
     },
     "metadata": {},
     "output_type": "display_data"
    }
   ],
   "source": [
    "plt.scatter(X,Y) \n",
    "plt.plot(X,Yhat,'r-')\n",
    "plt.show()"
   ]
  },
  {
   "cell_type": "code",
   "execution_count": 45,
   "metadata": {},
   "outputs": [
    {
     "name": "stdout",
     "output_type": "stream",
     "text": [
      "a: 0.3510435733650199 b: -685.000284381709\n",
      "the r-squared is: 0.952944285228576\n"
     ]
    }
   ],
   "source": [
    "d1 = Y - Yhat \n",
    "d2 = Y - Y.mean()\n",
    "r2 = 1 - d1.dot(d1) / d2.dot(d2) \n",
    "print('a:', a, 'b:', b)\n",
    "print('the r-squared is:', r2)"
   ]
  },
  {
   "cell_type": "markdown",
   "metadata": {},
   "source": [
    "### Calculate time for doubling transister count (tc)\n",
    "\n",
    "Model we used for this 1D regression is as follows \n",
    ">` ln(tc) = a*year + b`  \n",
    ">` tc = exp(b) * exp(a*year)`  \n",
    "\n",
    "Calculate left side as 2*tc =... \n",
    ">` 2*tc = 2*exp(b) * exp(a*year) `  \n",
    "> ` = exp(ln(2)) * exp(b) * exp(a*year) `   \n",
    ">`  = exp(b) * exp(a*year + ln(2)) `   \n",
    "\n",
    "So, doubling tc from year1 to year2, i.e., \n",
    ">` exp(b) * exp(a*year2) = exp(b) * exp(a*year1 + ln(2))`   \n",
    "\n",
    ">` a*year2 = a*year1 + ln(2)`  \n",
    ">` yea2 = year1 + ln(2)/a `  \n"
   ]
  },
  {
   "cell_type": "code",
   "execution_count": 47,
   "metadata": {},
   "outputs": [
    {
     "name": "stdout",
     "output_type": "stream",
     "text": [
      "time to double:  1.9745331723797188 years\n"
     ]
    }
   ],
   "source": [
    "# How to estimate time for transister count (tc) to double ]\n",
    "#\n",
    "# Model we used is as follows: \n",
    "#  ln(tc) = a*year+ b \n",
    "#  tc = exp(b) * exp(a*year)\n",
    "#\n",
    "#  Calculte left as 2*tc\n",
    "#  2*tc = 2*exp(b) * exp(a*year) = exp(ln(2))*exp(b)*exp(a*year)\n",
    "#                                = exp(b)*exp(a*year + ln(2))\n",
    "#\n",
    "# So, doubleing tc from year1 to year2, i.e., \n",
    "#  exp(b)*exp2(a*year2) = exp(b)*exp(a*year1 + ln2)\n",
    "#  a*year2 = a*year1 + ln2 \n",
    "#  year2 = year1 + ln2/a\n",
    "#\n",
    "print('time to double: ', np.log(2)/a, 'years')"
   ]
  },
  {
   "cell_type": "code",
   "execution_count": null,
   "metadata": {},
   "outputs": [],
   "source": []
  }
 ],
 "metadata": {
  "kernelspec": {
   "display_name": "Python 3",
   "language": "python",
   "name": "python3"
  },
  "language_info": {
   "codemirror_mode": {
    "name": "ipython",
    "version": 3
   },
   "file_extension": ".py",
   "mimetype": "text/x-python",
   "name": "python",
   "nbconvert_exporter": "python",
   "pygments_lexer": "ipython3",
   "version": "3.6.4"
  }
 },
 "nbformat": 4,
 "nbformat_minor": 2
}
