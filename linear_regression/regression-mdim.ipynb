{
 "cells": [
  {
   "cell_type": "markdown",
   "metadata": {},
   "source": [
    "# Multi-dimensional Regression (Multiple Linear Regression)"
   ]
  },
  {
   "cell_type": "markdown",
   "metadata": {},
   "source": [
    "Math purely by matrix (Linear Regression / Udemy, Module 15)  \n",
    "Ref: [matrix_cookbook](./matrix_cookbook.pdf)\n",
    "```\n",
    "Input  X [NxD]  : N=num samples, D=num features \n",
    "Output y [Nx1]\n",
    "Coeff  w [Dx1]\n",
    "y = Xw   (NxD.Dx1:=Nx1)\n",
    "\n",
    "Cust Function J \n",
    "J = (t-y)T . (t-y) \n",
    "  = tTt - tTy - yTt + yTy \n",
    "  = tTt - tTXw - (Xw)Tt + (Xw)T(Xw)\n",
    "  \n",
    "@J/@w = -2XT + 2XTXw = 0 \n",
    "  XTXw = XTt \n",
    "  w = [inv(XT.X)].XTt\n",
    "```"
   ]
  }
 ],
 "metadata": {
  "kernelspec": {
   "display_name": "Python 3",
   "language": "python",
   "name": "python3"
  },
  "language_info": {
   "codemirror_mode": {
    "name": "ipython",
    "version": 3
   },
   "file_extension": ".py",
   "mimetype": "text/x-python",
   "name": "python",
   "nbconvert_exporter": "python",
   "pygments_lexer": "ipython3",
   "version": "3.6.4"
  }
 },
 "nbformat": 4,
 "nbformat_minor": 2
}
