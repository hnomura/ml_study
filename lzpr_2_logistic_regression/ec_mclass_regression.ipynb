{
 "cells": [
  {
   "cell_type": "markdown",
   "metadata": {},
   "source": [
    "# Multi-Classes Classification by Logistic Regression   \n",
    "For multi-classes, softmax is used instead of signoid function (for binary classification). "
   ]
  },
  {
   "cell_type": "code",
   "execution_count": 1,
   "metadata": {},
   "outputs": [],
   "source": [
    "import numpy as np \n",
    "import pandas as pd \n",
    "\n",
    "def get_data():\n",
    "    df = pd.read_csv('./ecommerce_data.csv')\n",
    "    data = df.as_matrix()\n",
    "    \n",
    "    # shuffle \n",
    "    np.random.shuffle(data) \n",
    "    \n",
    "    # split features and label \n",
    "    X = data[:,:-1]\n",
    "    Y = data[:,-1].astype(np.int32) \n",
    "    \n",
    "    # one-hot encoding the categorical data \n",
    "    N, D = X.shape \n",
    "    X2 = np.zeros((N, D+3))  # 4 categories (3 additional columns) \n",
    "    X2[:,0:(D-1)] = X[:,0:(D-1)]\n",
    "    \n",
    "    for n in range(N): \n",
    "        t = int(X[n,D-1])\n",
    "        X2[n,D+t-1] = 1 \n",
    "        \n",
    "    X = X2 \n",
    "    \n",
    "    # split train and test \n",
    "    Xtrain = X[:-100]\n",
    "    Ytrain = Y[:-100]\n",
    "    Xtest = X[-100:]\n",
    "    Ytest = Y[-100:]\n",
    "    \n",
    "    # normalize column 1 and 2 (numerical) \n",
    "    for i in (1,2): \n",
    "        m = Xtrain[:,i].mean() \n",
    "        s = Xtrain[:,i].std() \n",
    "        Xtrain[:,i] = (Xtrain[:,i] - m) / s\n",
    "        Xtest[:,i] = (Xtest[:,i] - m) / s\n",
    "        \n",
    "    return Xtrain, Ytrain, Xtest, Ytest "
   ]
  },
  {
   "cell_type": "code",
   "execution_count": 2,
   "metadata": {},
   "outputs": [],
   "source": [
    "def softmax(a): \n",
    "    expA = np.exp(a) \n",
    "    return expA / expA.sum(axis=1, keepdims=True) "
   ]
  },
  {
   "cell_type": "code",
   "execution_count": 3,
   "metadata": {},
   "outputs": [],
   "source": [
    "def forward(X, W, b):\n",
    "    return softmax( X.dot(W) + b )"
   ]
  },
  {
   "cell_type": "code",
   "execution_count": 4,
   "metadata": {},
   "outputs": [],
   "source": [
    "def predict(P_Y_given_X):\n",
    "    return np.argmax(P_Y_given_X, axis=1)"
   ]
  },
  {
   "cell_type": "code",
   "execution_count": 5,
   "metadata": {},
   "outputs": [],
   "source": [
    "def classification_rate(Y, P):\n",
    "    return np.mean(Y == P)"
   ]
  },
  {
   "cell_type": "code",
   "execution_count": 6,
   "metadata": {},
   "outputs": [],
   "source": [
    "def cross_entropy(T, pY): \n",
    "    return -np.mean(T*np.log(pY))"
   ]
  },
  {
   "cell_type": "markdown",
   "metadata": {},
   "source": [
    "## Data Preparation "
   ]
  },
  {
   "cell_type": "code",
   "execution_count": 7,
   "metadata": {},
   "outputs": [],
   "source": [
    "def vectorize_class(y,K):\n",
    "    N = len(y)\n",
    "    ind = np.zeros((N,K))\n",
    "    for i in range(N):\n",
    "        ind[i,y[i]] = 1\n",
    "    return ind"
   ]
  },
  {
   "cell_type": "code",
   "execution_count": 8,
   "metadata": {},
   "outputs": [],
   "source": [
    "Xtrain, Ytrain, Xtest, Ytest = get_data()\n",
    "N, D = Xtrain.shape\n",
    "K = np.max( [np.max(Ytrain), np.max(Ytest)] ) + 1  # the number of classes \n",
    "\n",
    "Ytrain_vect = vectorize_class(Ytrain, K) \n",
    "Ytest_vect  = vectorize_class(Ytest,  K)"
   ]
  },
  {
   "cell_type": "markdown",
   "metadata": {},
   "source": [
    "## Training "
   ]
  },
  {
   "cell_type": "code",
   "execution_count": 10,
   "metadata": {},
   "outputs": [
    {
     "name": "stdout",
     "output_type": "stream",
     "text": [
      "0 0.5595108079312976 0.5768746213530782\n",
      "1000 0.09028216057925693 0.08495777363416611\n",
      "2000 0.08601494572274587 0.08586785148074576\n",
      "3000 0.08425850705453514 0.08761240025763106\n",
      "4000 0.08329883290465435 0.08938121896521105\n",
      "5000 0.08269461593276184 0.09100282249738069\n",
      "6000 0.08228013145848155 0.09245769157471168\n",
      "7000 0.0819790160441735 0.09376044780608168\n",
      "8000 0.08175110609272561 0.09493136367460922\n",
      "9000 0.08157321866728318 0.09598929601735316\n",
      "Final train classification_rate:  0.915\n",
      "Final test classification_rate:  0.86\n"
     ]
    }
   ],
   "source": [
    "# randomly initialize weights\n",
    "W = np.random.randn(D, K)\n",
    "b = np.zeros(K)\n",
    "\n",
    "train_costs = [] \n",
    "test_costs = [] \n",
    "train_scores = []\n",
    "test_scores = [] \n",
    "learning_rate = 0.001\n",
    "\n",
    "for i in range(10000):\n",
    "    pYtrain_vect = forward(Xtrain, W, b) \n",
    "    pYtest_vect = forward(Xtest, W, b) \n",
    "    \n",
    "    ctrain = cross_entropy(Ytrain_vect, pYtrain_vect)\n",
    "    ctest  = cross_entropy(Ytest_vect,  pYtest_vect) \n",
    "    train_costs.append(ctrain) \n",
    "    test_costs.append(ctest) \n",
    "    \n",
    "    pYtrain = predict(pYtrain_vect) \n",
    "    pYtest = predict(pYtest_vect) \n",
    "    \n",
    "    strain = classification_rate(Ytrain, pYtrain)\n",
    "    stest  = classification_rate(Ytest,  pYtest)\n",
    "    train_scores.append(strain) \n",
    "    test_scores.append(stest) \n",
    "    \n",
    "    # gradient decent \n",
    "    W -= learning_rate * Xtrain.T.dot(pYtrain_vect-Ytrain_vect) \n",
    "    b -= learning_rate * (pYtrain_vect-Ytrain_vect).sum(axis=0) \n",
    "    if i % 1000 == 0:\n",
    "        print(i, ctrain, ctest) \n",
    "        \n",
    "\n",
    "print(\"Final train classification_rate: \", classification_rate(Ytrain, pYtrain))\n",
    "print(\"Final test classification_rate: \", classification_rate(Ytest, pYtest))\n"
   ]
  },
  {
   "cell_type": "markdown",
   "metadata": {},
   "source": [
    "## Cost (i.e., cross entropy) "
   ]
  },
  {
   "cell_type": "code",
   "execution_count": 11,
   "metadata": {},
   "outputs": [
    {
     "data": {
      "image/png": "[encoded data removed]",
      "text/plain": [
       "<matplotlib.figure.Figure at 0x8da0c50>"
      ]
     },
     "metadata": {},
     "output_type": "display_data"
    }
   ],
   "source": [
    "import matplotlib.pyplot as plt \n",
    "%matplotlib inline \n",
    "plt.style.use(\"ggplot\")\n",
    "\n",
    "plt.figure(figsize=(8,4))\n",
    "plt.plot(train_costs, label='train cost') \n",
    "plt.plot(test_costs, label='test costs')\n",
    "plt.legend();"
   ]
  },
  {
   "cell_type": "markdown",
   "metadata": {},
   "source": [
    "## Score (classification success rate) "
   ]
  },
  {
   "cell_type": "code",
   "execution_count": 12,
   "metadata": {},
   "outputs": [
    {
     "data": {
      "image/png": "[encoded data removed]",
      "text/plain": [
       "<matplotlib.figure.Figure at 0x98842b0>"
      ]
     },
     "metadata": {},
     "output_type": "display_data"
    }
   ],
   "source": [
    "plt.figure(figsize=(8,6))\n",
    "plt.plot(train_scores, label='train score')\n",
    "plt.plot(test_scores, label='test score')\n",
    "plt.legend();"
   ]
  }
 ],
 "metadata": {
  "kernelspec": {
   "display_name": "Python 3",
   "language": "python",
   "name": "python3"
  },
  "language_info": {
   "codemirror_mode": {
    "name": "ipython",
    "version": 3
   },
   "file_extension": ".py",
   "mimetype": "text/x-python",
   "name": "python",
   "nbconvert_exporter": "python",
   "pygments_lexer": "ipython3",
   "version": "3.6.4"
  },
  "varInspector": {
   "cols": {
    "lenName": 16,
    "lenType": 16,
    "lenVar": 40
   },
   "kernels_config": {
    "python": {
     "delete_cmd_postfix": "",
     "delete_cmd_prefix": "del ",
     "library": "var_list.py",
     "varRefreshCmd": "print(var_dic_list())"
    },
    "r": {
     "delete_cmd_postfix": ") ",
     "delete_cmd_prefix": "rm(",
     "library": "var_list.r",
     "varRefreshCmd": "cat(var_dic_list()) "
    }
   },
   "types_to_exclude": [
    "module",
    "function",
    "builtin_function_or_method",
    "instance",
    "_Feature"
   ],
   "window_display": false
  }
 },
 "nbformat": 4,
 "nbformat_minor": 2
}
