{
 "cells": [
  {
   "cell_type": "code",
   "execution_count": 17,
   "metadata": {},
   "outputs": [],
   "source": [
    "import numpy as np\n",
    "import matplotlib.pyplot as plt\n",
    "from sortedcontainers import SortedList\n",
    "from datetime import datetime\n",
    "\n",
    "%matplotlib inline \n",
    "plt.style.use(\"ggplot\")"
   ]
  },
  {
   "cell_type": "code",
   "execution_count": 5,
   "metadata": {},
   "outputs": [],
   "source": [
    "from util import get_data"
   ]
  },
  {
   "cell_type": "code",
   "execution_count": 19,
   "metadata": {},
   "outputs": [],
   "source": [
    "class KNN(object): \n",
    "    # k = num_neighbors \n",
    "    def __init__(self, k):\n",
    "        self.k = k\n",
    "        \n",
    "    # X = train data input \n",
    "    # y = train data label \n",
    "    def fit(self, X, y):\n",
    "        self.X = X\n",
    "        self.y = y\n",
    "        \n",
    "    def predict(self, X):\n",
    "        y = np.zeros(len(X))                 # # of rows, i.e., N=# of samples in given test data X\n",
    "        for i,x in enumerate(X):             # to each test data \n",
    "            sl = SortedList()                # stores (distance,class) tuples \n",
    "            for j,xt in enumerate(self.X):   # for each training data \n",
    "                \n",
    "                # distance between 2 images : sum( (x[i] - xt[i]) ** 2\n",
    "                diff = x - xt\n",
    "                d = diff.dot(diff)\n",
    "                \n",
    "                if len(sl) < self.k: \n",
    "                    # add to the list blindy \n",
    "                    sl.add( (d, self.y[j] ))\n",
    "                else:\n",
    "                    if d < sl[-1][0]:        # distance smaller than the previous largest \n",
    "                        del sl[-1]\n",
    "                        sl.add( (d, self.y[j]))\n",
    "            \n",
    "            # vote for the current test point \n",
    "            votes = {}  # empty dictionary \n",
    "            for _, v in sl:\n",
    "                # when class(v) is not in map, return 0. \n",
    "                votes[v] = votes.get(v,0) + 1 \n",
    "            \n",
    "            # find max votes \n",
    "            max_votes = 0\n",
    "            max_votes_class = -1\n",
    "            for v,count in votes.items():\n",
    "                # class(v), count\n",
    "                if count > max_votes:\n",
    "                    max_votes = count\n",
    "                    max_votes_class = v\n",
    "            y[i] = max_votes_class\n",
    "        \n",
    "        return y\n",
    "    \n",
    "    def score(self, X, y): \n",
    "        yhat = self.predict(X)\n",
    "        return np.mean( yhat == y ) \n",
    "            "
   ]
  },
  {
   "cell_type": "code",
   "execution_count": 18,
   "metadata": {},
   "outputs": [
    {
     "name": "stdout",
     "output_type": "stream",
     "text": [
      "Reading in and transforming data...\n",
      "\n",
      "k =  1\n",
      "Training time: 0:00:00\n",
      "Train accuracy: 1.0\n",
      "Time to compute train accuracy: 0:00:09.671000 Train Size: 1000\n",
      "Test accuracy: 0.868\n",
      "Time to compute test accuracy: 0:00:13.805000 Test Size: 1000\n",
      "\n",
      "k =  2\n",
      "Training time: 0:00:00\n",
      "Train accuracy: 1.0\n",
      "Time to compute train accuracy: 0:00:09.695000 Train Size: 1000\n",
      "Test accuracy: 0.868\n",
      "Time to compute test accuracy: 0:00:13.937000 Test Size: 1000\n",
      "\n",
      "k =  3\n",
      "Training time: 0:00:00\n",
      "Train accuracy: 0.953\n",
      "Time to compute train accuracy: 0:00:09.833000 Train Size: 1000\n",
      "Test accuracy: 0.873\n",
      "Time to compute test accuracy: 0:00:14.253000 Test Size: 1000\n",
      "\n",
      "k =  4\n",
      "Training time: 0:00:00\n",
      "Train accuracy: 0.951\n",
      "Time to compute train accuracy: 0:00:09.742000 Train Size: 1000\n",
      "Test accuracy: 0.877\n",
      "Time to compute test accuracy: 0:00:13.999000 Test Size: 1000\n",
      "\n",
      "k =  5\n",
      "Training time: 0:00:00\n",
      "Train accuracy: 0.936\n",
      "Time to compute train accuracy: 0:00:09.967000 Train Size: 1000\n",
      "Test accuracy: 0.879\n",
      "Time to compute test accuracy: 0:00:14.008000 Test Size: 1000\n",
      "\n",
      "k =  6\n",
      "Training time: 0:00:00\n",
      "Train accuracy: 0.933\n",
      "Time to compute train accuracy: 0:00:10.001000 Train Size: 1000\n",
      "Test accuracy: 0.874\n",
      "Time to compute test accuracy: 0:00:14.116000 Test Size: 1000\n"
     ]
    },
    {
     "data": {
      "image/png": "[encoded data removed]",
      "text/plain": [
       "<matplotlib.figure.Figure at 0x97c6e48>"
      ]
     },
     "metadata": {},
     "output_type": "display_data"
    }
   ],
   "source": [
    "def run_test():\n",
    "    X, Y = get_data(2000)  # 2000 samples \n",
    "    Ntrain = 1000          # 1000 training data, 1000 test data \n",
    "    Xtrain, Ytrain = X[:Ntrain], Y[:Ntrain]\n",
    "    Xtest,  Ytest  = X[Ntrain:], Y[Ntrain:]\n",
    "    train_scores = [] \n",
    "    test_scores = []\n",
    "    \n",
    "    # try different Ks \n",
    "    ks = [1,2,3,4,5,6]\n",
    "    for k in ks:\n",
    "        print(\"\\nk = \", k)\n",
    "        knn = KNN(k)\n",
    "        \n",
    "        # train does nothing actually \n",
    "        t0 = datetime.now()\n",
    "        knn.fit(Xtrain, Ytrain)\n",
    "        print(\"Training time:\", (datetime.now()-t0))\n",
    "        \n",
    "        # Score to train data (with k=1, 1.0)\n",
    "        t0 = datetime.now() \n",
    "        train_score = knn.score( Xtrain, Ytrain ) \n",
    "        train_scores.append(train_score) \n",
    "        print(\"Train accuracy:\", train_score)\n",
    "        print(\"Time to compute train accuracy:\", (datetime.now() - t0), \"Train Size:\", len(Ytrain))\n",
    "        \n",
    "        # Score to test data\n",
    "        t0 = datetime.now() \n",
    "        test_score = knn.score( Xtest, Ytest ) \n",
    "        test_scores.append(test_score) \n",
    "        print(\"Test accuracy:\", test_score)\n",
    "        print(\"Time to compute test accuracy:\", (datetime.now() - t0), \"Test Size:\", len(Ytest))\n",
    "        \n",
    "    plt.figure(figsize=(16,8))\n",
    "    plt.plot(ks, train_scores, label=\"train scores\") \n",
    "    plt.plot(ks, test_scores,  label=\"test scores\") \n",
    "    plt.legend()\n",
    "    \n",
    "# run test \n",
    "run_test()"
   ]
  },
  {
   "cell_type": "code",
   "execution_count": null,
   "metadata": {},
   "outputs": [],
   "source": []
  }
 ],
 "metadata": {
  "kernelspec": {
   "display_name": "Python 3",
   "language": "python",
   "name": "python3"
  },
  "language_info": {
   "codemirror_mode": {
    "name": "ipython",
    "version": 3
   },
   "file_extension": ".py",
   "mimetype": "text/x-python",
   "name": "python",
   "nbconvert_exporter": "python",
   "pygments_lexer": "ipython3",
   "version": "3.6.4"
  },
  "varInspector": {
   "cols": {
    "lenName": 16,
    "lenType": 16,
    "lenVar": 40
   },
   "kernels_config": {
    "python": {
     "delete_cmd_postfix": "",
     "delete_cmd_prefix": "del ",
     "library": "var_list.py",
     "varRefreshCmd": "print(var_dic_list())"
    },
    "r": {
     "delete_cmd_postfix": ") ",
     "delete_cmd_prefix": "rm(",
     "library": "var_list.r",
     "varRefreshCmd": "cat(var_dic_list()) "
    }
   },
   "types_to_exclude": [
    "module",
    "function",
    "builtin_function_or_method",
    "instance",
    "_Feature"
   ],
   "window_display": false
  }
 },
 "nbformat": 4,
 "nbformat_minor": 2
}
