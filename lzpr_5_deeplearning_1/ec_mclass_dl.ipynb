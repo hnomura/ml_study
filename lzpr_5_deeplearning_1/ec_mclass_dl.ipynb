{
 "cells": [
  {
   "cell_type": "markdown",
   "metadata": {},
   "source": [
    "# Multi-Classes Classification by Neural Network   \n",
    "For multi-classes, softmax is used instead of signoid function (for binary classification). "
   ]
  },
  {
   "cell_type": "code",
   "execution_count": 10,
   "metadata": {},
   "outputs": [],
   "source": [
    "import numpy as np \n",
    "import pandas as pd \n",
    "\n",
    "def get_data():\n",
    "    df = pd.read_csv('./ecommerce_data.csv')\n",
    "    data = df.as_matrix()\n",
    "    \n",
    "    # shuffle \n",
    "    np.random.shuffle(data) \n",
    "    \n",
    "    # split features and label \n",
    "    X = data[:,:-1]\n",
    "    Y = data[:,-1].astype(np.int32) \n",
    "    \n",
    "    # one-hot encoding the categorical data \n",
    "    N, D = X.shape \n",
    "    X2 = np.zeros((N, D+3))  # 4 categories (3 additional columns) \n",
    "    X2[:,0:(D-1)] = X[:,0:(D-1)]\n",
    "    \n",
    "    for n in range(N): \n",
    "        t = int(X[n,D-1])\n",
    "        X2[n,D+t-1] = 1 \n",
    "        \n",
    "    X = X2 \n",
    "    \n",
    "    # split train and test \n",
    "    Xtrain = X[:-100]\n",
    "    Ytrain = Y[:-100]\n",
    "    Xtest = X[-100:]\n",
    "    Ytest = Y[-100:]\n",
    "    \n",
    "    # normalize column 1 and 2 (numerical) \n",
    "    for i in (1,2): \n",
    "        m = Xtrain[:,i].mean() \n",
    "        s = Xtrain[:,i].std() \n",
    "        Xtrain[:,i] = (Xtrain[:,i] - m) / s\n",
    "        Xtest[:,i] = (Xtest[:,i] - m) / s\n",
    "        \n",
    "    return Xtrain, Ytrain, Xtest, Ytest "
   ]
  },
  {
   "cell_type": "code",
   "execution_count": 11,
   "metadata": {},
   "outputs": [],
   "source": [
    "def softmax(a): \n",
    "    expA = np.exp(a) \n",
    "    return expA / expA.sum(axis=1, keepdims=True) "
   ]
  },
  {
   "cell_type": "code",
   "execution_count": 12,
   "metadata": {},
   "outputs": [],
   "source": [
    "def forward(X, W1, b1, W2, b2):\n",
    "    Z = np.tanh(X.dot(W1) + b1)\n",
    "    return softmax(Z.dot(W2) + b2), Z"
   ]
  },
  {
   "cell_type": "code",
   "execution_count": 29,
   "metadata": {},
   "outputs": [],
   "source": [
    "def sigmoid(x):\n",
    "    return 1 / (1 + np.exp(-x))\n",
    "\n",
    "def forward_sig(X, W1, b1, W2, b2):\n",
    "    Z = sigmoid(X.dot(W1) + b1) \n",
    "    return softmax(Z.dot(W2) + b2), Z"
   ]
  },
  {
   "cell_type": "code",
   "execution_count": 13,
   "metadata": {},
   "outputs": [],
   "source": [
    "def predict(P_Y_given_X):\n",
    "    return np.argmax(P_Y_given_X, axis=1)"
   ]
  },
  {
   "cell_type": "code",
   "execution_count": 14,
   "metadata": {},
   "outputs": [],
   "source": [
    "def classification_rate(Y, P):\n",
    "    return np.mean(Y == P)"
   ]
  },
  {
   "cell_type": "code",
   "execution_count": 15,
   "metadata": {},
   "outputs": [],
   "source": [
    "def cross_entropy(T, pY): \n",
    "    return -np.mean(T*np.log(pY))"
   ]
  },
  {
   "cell_type": "markdown",
   "metadata": {},
   "source": [
    "## Data Preparation "
   ]
  },
  {
   "cell_type": "code",
   "execution_count": 16,
   "metadata": {},
   "outputs": [],
   "source": [
    "def vectorize_class(y,K):\n",
    "    N = len(y)\n",
    "    ind = np.zeros((N,K))\n",
    "    for i in range(N):\n",
    "        ind[i,y[i]] = 1\n",
    "    return ind"
   ]
  },
  {
   "cell_type": "code",
   "execution_count": 17,
   "metadata": {},
   "outputs": [],
   "source": [
    "Xtrain, Ytrain, Xtest, Ytest = get_data()\n",
    "N, D = Xtrain.shape\n",
    "K = np.max( [np.max(Ytrain), np.max(Ytest)] ) + 1  # the number of classes \n",
    "\n",
    "Ytrain_vect = vectorize_class(Ytrain, K) \n",
    "Ytest_vect  = vectorize_class(Ytest,  K)"
   ]
  },
  {
   "cell_type": "markdown",
   "metadata": {},
   "source": [
    "## Training  (hidden layer with 5 unites, tanh activation)  \n",
    "Activation function in hidden layer is tanh() "
   ]
  },
  {
   "cell_type": "code",
   "execution_count": 26,
   "metadata": {},
   "outputs": [
    {
     "name": "stdout",
     "output_type": "stream",
     "text": [
      "0 0.5659465884131927 0.5734553832787797\n",
      "1000 0.02795932893444686 0.054879260624818384\n",
      "2000 0.018056837400853388 0.061877563226527335\n",
      "3000 0.014674986382754693 0.07689232905435898\n",
      "4000 0.012261793229862898 0.08279205193279453\n",
      "5000 0.01099574996202194 0.08729128437340453\n",
      "6000 0.010112514528999354 0.09160460682462915\n",
      "7000 0.009456159255382733 0.09574829134671184\n",
      "8000 0.008942554182453866 0.0996819558765122\n",
      "9000 0.00852315377341851 0.10346233650408614\n",
      "Final train classification_rate:  0.99\n",
      "Final test classification_rate:  0.9\n"
     ]
    }
   ],
   "source": [
    "# randomly initialize weights\n",
    "M = 5 # the number of units in hidden layer \n",
    "W1 = np.random.randn(D, M)\n",
    "b1 = np.zeros(M)\n",
    "W2 = np.random.randn(M, K)\n",
    "b2 = np.zeros(K)\n",
    "\n",
    "train_costs = [] \n",
    "test_costs = [] \n",
    "train_scores = []\n",
    "test_scores = [] \n",
    "learning_rate = 0.001\n",
    "\n",
    "for i in range(10000):\n",
    "    pYtrain_vect, Ztrain = forward(Xtrain, W1, b1, W2, b2) \n",
    "    pYtest_vect, Ztest = forward(Xtest, W1, b1, W2, b2) \n",
    "    \n",
    "    ctrain = cross_entropy(Ytrain_vect, pYtrain_vect)\n",
    "    ctest  = cross_entropy(Ytest_vect,  pYtest_vect) \n",
    "    train_costs.append(ctrain) \n",
    "    test_costs.append(ctest) \n",
    "    \n",
    "    # vector to probability (argmax)\n",
    "    pYtrain = predict(pYtrain_vect) \n",
    "    pYtest = predict(pYtest_vect) \n",
    "    \n",
    "    strain = classification_rate(Ytrain, pYtrain)\n",
    "    stest  = classification_rate(Ytest,  pYtest)\n",
    "    train_scores.append(strain) \n",
    "    test_scores.append(stest) \n",
    "    \n",
    "    # gradient decent \n",
    "    W2 -= learning_rate*Ztrain.T.dot(pYtrain_vect - Ytrain_vect)\n",
    "    b2 -= learning_rate*(pYtrain_vect - Ytrain_vect).sum(axis=0) \n",
    "    \n",
    "    # note: Activation function of hidden layer is tanh() \n",
    "    # delivertive of tanh is (1-z*z)\n",
    "    \n",
    "    dz = (pYtrain_vect - Ytrain_vect).dot(W2.T) * (1-Ztrain*Ztrain) \n",
    "    W1 -= learning_rate*Xtrain.T.dot(dz) \n",
    "    b1 -= learning_rate*dz.sum(axis=0) \n",
    "    \n",
    "    if i % 1000 == 0:\n",
    "        print(i, ctrain, ctest) \n",
    "        \n",
    "\n",
    "print(\"Final train classification_rate: \", classification_rate(Ytrain, pYtrain))\n",
    "print(\"Final test classification_rate: \", classification_rate(Ytest, pYtest))\n"
   ]
  },
  {
   "cell_type": "markdown",
   "metadata": {},
   "source": [
    "## Cost (i.e., cross entropy) "
   ]
  },
  {
   "cell_type": "code",
   "execution_count": 27,
   "metadata": {},
   "outputs": [
    {
     "data": {
      "image/png": "[encoded data removed]",
      "text/plain": [
       "<matplotlib.figure.Figure at 0xa8b6da0>"
      ]
     },
     "metadata": {},
     "output_type": "display_data"
    }
   ],
   "source": [
    "import matplotlib.pyplot as plt \n",
    "%matplotlib inline \n",
    "plt.style.use(\"ggplot\")\n",
    "\n",
    "plt.figure(figsize=(8,4))\n",
    "plt.plot(train_costs, label='train cost') \n",
    "plt.plot(test_costs, label='test costs')\n",
    "plt.legend();"
   ]
  },
  {
   "cell_type": "markdown",
   "metadata": {},
   "source": [
    "## Score (classification success rate) "
   ]
  },
  {
   "cell_type": "code",
   "execution_count": 28,
   "metadata": {},
   "outputs": [
    {
     "data": {
      "image/png": "[encoded data removed]",
      "text/plain": [
       "<matplotlib.figure.Figure at 0xa97f5f8>"
      ]
     },
     "metadata": {},
     "output_type": "display_data"
    }
   ],
   "source": [
    "plt.figure(figsize=(8,6))\n",
    "plt.plot(train_scores, label='train score')\n",
    "plt.plot(test_scores, label='test score')\n",
    "plt.legend();"
   ]
  },
  {
   "cell_type": "markdown",
   "metadata": {},
   "source": [
    "## Training (hidden layer with 5 units, sigmoid activation) \n",
    "Activation function in hidden layer is sigmoid "
   ]
  },
  {
   "cell_type": "code",
   "execution_count": 30,
   "metadata": {},
   "outputs": [
    {
     "name": "stdout",
     "output_type": "stream",
     "text": [
      "0 0.4259188149006745 0.4458580470701605\n",
      "1000 0.0637880868532521 0.08425803430649753\n",
      "2000 0.04831556487357329 0.0716757666507423\n",
      "3000 0.030243439572663098 0.04848639666176244\n",
      "4000 0.021336587342756674 0.03776973148659236\n",
      "5000 0.017753292079234345 0.03494505909494885\n",
      "6000 0.01566306924390453 0.03404628033909871\n",
      "7000 0.01404166162792726 0.033921761111800966\n",
      "8000 0.012605534413814134 0.033884302037459964\n",
      "9000 0.011440703026689997 0.03324533165593436\n",
      "Final train classification_rate:  0.9875\n",
      "Final test classification_rate:  0.94\n"
     ]
    }
   ],
   "source": [
    "# randomly initialize weights\n",
    "M = 5 # the number of units in hidden layer \n",
    "W1 = np.random.randn(D, M)\n",
    "b1 = np.zeros(M)\n",
    "W2 = np.random.randn(M, K)\n",
    "b2 = np.zeros(K)\n",
    "\n",
    "train_costs = [] \n",
    "test_costs = [] \n",
    "train_scores = []\n",
    "test_scores = [] \n",
    "learning_rate = 0.001\n",
    "\n",
    "for i in range(10000):\n",
    "    pYtrain_vect, Ztrain = forward_sig(Xtrain, W1, b1, W2, b2) \n",
    "    pYtest_vect, Ztest = forward_sig(Xtest, W1, b1, W2, b2) \n",
    "    \n",
    "    ctrain = cross_entropy(Ytrain_vect, pYtrain_vect)\n",
    "    ctest  = cross_entropy(Ytest_vect,  pYtest_vect) \n",
    "    train_costs.append(ctrain) \n",
    "    test_costs.append(ctest) \n",
    "    \n",
    "    # vector to probability (argmax)\n",
    "    pYtrain = predict(pYtrain_vect) \n",
    "    pYtest = predict(pYtest_vect) \n",
    "    \n",
    "    strain = classification_rate(Ytrain, pYtrain)\n",
    "    stest  = classification_rate(Ytest,  pYtest)\n",
    "    train_scores.append(strain) \n",
    "    test_scores.append(stest) \n",
    "    \n",
    "    # gradient decent \n",
    "    W2 -= learning_rate*Ztrain.T.dot(pYtrain_vect - Ytrain_vect)\n",
    "    b2 -= learning_rate*(pYtrain_vect - Ytrain_vect).sum(axis=0) \n",
    "    \n",
    "    # note: Activation function of hidden layer is tanh() \n",
    "    # delivertive of sigmoid s(x) is s(1-s)\n",
    "    \n",
    "    dz = (pYtrain_vect - Ytrain_vect).dot(W2.T) * Ztrain*(1-Ztrain) \n",
    "    W1 -= learning_rate*Xtrain.T.dot(dz) \n",
    "    b1 -= learning_rate*dz.sum(axis=0) \n",
    "    \n",
    "    if i % 1000 == 0:\n",
    "        print(i, ctrain, ctest) \n",
    "        \n",
    "\n",
    "print(\"Final train classification_rate: \", classification_rate(Ytrain, pYtrain))\n",
    "print(\"Final test classification_rate: \", classification_rate(Ytest, pYtest))\n"
   ]
  },
  {
   "cell_type": "code",
   "execution_count": 31,
   "metadata": {},
   "outputs": [
    {
     "data": {
      "image/png": "[encoded data removed]",
      "text/plain": [
       "<matplotlib.figure.Figure at 0xa99fe80>"
      ]
     },
     "metadata": {},
     "output_type": "display_data"
    }
   ],
   "source": [
    "plt.figure(figsize=(8,4))\n",
    "plt.plot(train_costs, label='train cost') \n",
    "plt.plot(test_costs, label='test costs')\n",
    "plt.legend();"
   ]
  },
  {
   "cell_type": "code",
   "execution_count": 32,
   "metadata": {},
   "outputs": [
    {
     "data": {
      "image/png": "[encoded data removed]",
      "text/plain": [
       "<matplotlib.figure.Figure at 0xaa01160>"
      ]
     },
     "metadata": {},
     "output_type": "display_data"
    }
   ],
   "source": [
    "plt.figure(figsize=(8,6))\n",
    "plt.plot(train_scores, label='train score')\n",
    "plt.plot(test_scores, label='test score')\n",
    "plt.legend();"
   ]
  }
 ],
 "metadata": {
  "kernelspec": {
   "display_name": "Python 3",
   "language": "python",
   "name": "python3"
  },
  "language_info": {
   "codemirror_mode": {
    "name": "ipython",
    "version": 3
   },
   "file_extension": ".py",
   "mimetype": "text/x-python",
   "name": "python",
   "nbconvert_exporter": "python",
   "pygments_lexer": "ipython3",
   "version": "3.6.4"
  },
  "varInspector": {
   "cols": {
    "lenName": 16,
    "lenType": 16,
    "lenVar": 40
   },
   "kernels_config": {
    "python": {
     "delete_cmd_postfix": "",
     "delete_cmd_prefix": "del ",
     "library": "var_list.py",
     "varRefreshCmd": "print(var_dic_list())"
    },
    "r": {
     "delete_cmd_postfix": ") ",
     "delete_cmd_prefix": "rm(",
     "library": "var_list.r",
     "varRefreshCmd": "cat(var_dic_list()) "
    }
   },
   "types_to_exclude": [
    "module",
    "function",
    "builtin_function_or_method",
    "instance",
    "_Feature"
   ],
   "window_display": false
  }
 },
 "nbformat": 4,
 "nbformat_minor": 2
}
