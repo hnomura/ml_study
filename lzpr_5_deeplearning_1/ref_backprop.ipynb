{
 "cells": [
  {
   "cell_type": "markdown",
   "metadata": {},
   "source": [
    "## Reference copied from WEB    \n",
    "\n",
    "https://dev.to/shamdasani/build-a-flexible-neural-network-with-backpropagation-in-python"
   ]
  },
  {
   "cell_type": "code",
   "execution_count": 1,
   "metadata": {},
   "outputs": [],
   "source": [
    "import numpy as np \n",
    "\n",
    "class Neural_Network(object): \n",
    "    def __init__(self):\n",
    "        self.inputSize = 2    # 2 features in input \n",
    "        self.outputSize = 1   # binary classification \n",
    "        self.hiddenSize = 3   # one hidden layer with 3 units \n",
    "        \n",
    "        self.W1 = np.random.randn(self.inputSize, self.hiddenSize) # (2x3)\n",
    "        self.b1 = np.random.randn(self.hiddenSize)\n",
    "        \n",
    "        self.W2 = np.random.randn(self.hiddenSize, self.outputSize) # (3x1) \n",
    "        self.b2 = np.random.randn(self.outputSize)\n",
    "        \n",
    "    def forward(self, X): \n",
    "        self.z1 = np.dot(X, self.W1) + self.b1\n",
    "        self.z2 = self.sigmoid(self.z1)\n",
    "        self.z3 = np.dot(self.z2, self.W2) + self.b2 \n",
    "        o = self.sigmoid(self.z3) \n",
    "        return o \n",
    "        \n",
    "    def sigmoid(self, s): \n",
    "        return 1 / (1 + np.exp(-s))\n",
    "    \n",
    "    \n",
    "    def sigmnoidPrime(self, s): \n",
    "        # derivative of sigmoid\n",
    "        return s * (1-s) \n",
    "    \n",
    "    def backward( )\n",
    "    "
   ]
  }
 ],
 "metadata": {
  "kernelspec": {
   "display_name": "Python 3",
   "language": "python",
   "name": "python3"
  },
  "language_info": {
   "codemirror_mode": {
    "name": "ipython",
    "version": 3
   },
   "file_extension": ".py",
   "mimetype": "text/x-python",
   "name": "python",
   "nbconvert_exporter": "python",
   "pygments_lexer": "ipython3",
   "version": "3.6.4"
  },
  "varInspector": {
   "cols": {
    "lenName": 16,
    "lenType": 16,
    "lenVar": 40
   },
   "kernels_config": {
    "python": {
     "delete_cmd_postfix": "",
     "delete_cmd_prefix": "del ",
     "library": "var_list.py",
     "varRefreshCmd": "print(var_dic_list())"
    },
    "r": {
     "delete_cmd_postfix": ") ",
     "delete_cmd_prefix": "rm(",
     "library": "var_list.r",
     "varRefreshCmd": "cat(var_dic_list()) "
    }
   },
   "types_to_exclude": [
    "module",
    "function",
    "builtin_function_or_method",
    "instance",
    "_Feature"
   ],
   "window_display": false
  }
 },
 "nbformat": 4,
 "nbformat_minor": 2
}
