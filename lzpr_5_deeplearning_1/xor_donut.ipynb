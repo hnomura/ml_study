{
 "cells": [
  {
   "cell_type": "code",
   "execution_count": 2,
   "metadata": {},
   "outputs": [],
   "source": [
    "import numpy as np \n",
    "import matplotlib.pyplot as plt \n",
    "%matplotlib inline \n",
    "plt.style.use(\"ggplot\")"
   ]
  },
  {
   "cell_type": "markdown",
   "metadata": {},
   "source": [
    "## Neural Network with 1 hidden layer  \n",
    "The number of units in hidden layer can be different between XOR and Donut  \n"
   ]
  },
  {
   "cell_type": "code",
   "execution_count": 237,
   "metadata": {},
   "outputs": [],
   "source": [
    "#Fact = 0    # sigmoid \n",
    "#Fact = 1    # tanh \n",
    "Fact = 2    # ReLU "
   ]
  },
  {
   "cell_type": "code",
   "execution_count": 238,
   "metadata": {},
   "outputs": [],
   "source": [
    "def forward(X, W1, b1, W2, b2):\n",
    "    # sigmoid \n",
    "    if Fact == 0:\n",
    "        Z = 1 / (1 + np.exp(-(X.dot(W1)+b1)))\n",
    "    \n",
    "    # tanh \n",
    "    if Fact == 1:\n",
    "        Z = np.tanh(X.dot(W1)+b1)\n",
    "    \n",
    "    # ReLU \n",
    "    if Fact == 2:\n",
    "        Z = X.dot(W1) + b1\n",
    "        Z = Z * (Z>0) \n",
    "    \n",
    "    activation = Z.dot(W2) + b2\n",
    "    Y = 1 / (1 + np.exp(-activation))  # sigmoid for binary classification \n",
    "    return Y, Z "
   ]
  },
  {
   "cell_type": "code",
   "execution_count": 239,
   "metadata": {},
   "outputs": [],
   "source": [
    "def predict(X, W1, b1, W2, b2):\n",
    "    Y, _ = forward(X, W1, b1, W2, b2)\n",
    "    return np.round(Y)  # 0 or 1 at threshold 0.5 (sigmoid center)"
   ]
  },
  {
   "cell_type": "code",
   "execution_count": 240,
   "metadata": {},
   "outputs": [],
   "source": [
    "# Sign of these ese delivertives are for gradient descent  \n",
    "def derivative_w2(Z, T, Y): \n",
    "    return (Y - T).dot(Z)\n",
    "\n",
    "def derivative_b2(T,Y): \n",
    "    return (Y-T).sum() \n",
    "\n",
    "def derivative_w1(X, Z, T, Y, W2):\n",
    "    # Y-T:{1xN}, W2:{1xM}, outer:{NxM} \n",
    "    # X:{NxD}  {DxN}x{NxM} = {DxM} = shape of W1\n",
    "    # {Nx1}x{1xM} in python : one way is to use outer({N,}, {M,})\n",
    "    # Alternatively, reshape to {Nx1} & {1xM}, and use dot produduct as usual.  \n",
    "    \n",
    "    if Fact == 0: # sigmoid \n",
    "        dz = np.outer(Y-T, W2) * Z * (1-Z)     \n",
    "    if Fact == 1: # tanh \n",
    "        dz = np.outer(Y-T, W2) * (1- Z*Z)     \n",
    "    if Fact == 2: # ReLU \n",
    "        dz = np.outer(Y-T, W2) * (Z>0) \n",
    "        \n",
    "    return X.T.dot(dz) \n",
    "\n",
    "def derivative_b1(Z, T, Y, W2): \n",
    "    if Fact == 0: # sigmoid\n",
    "        dz = np.outer(Y-T, W2) * Z * (1-Z)   \n",
    "    if Fact == 1: # tanh\n",
    "        dz = np.outer(Y-T, W2) * (1- Z*Z)    \n",
    "    if Fact == 2: # ReLU \n",
    "        dz = np.outer(Y-T, W2) * (Z>0)      \n",
    "    return dz.sum(axis=0) "
   ]
  },
  {
   "cell_type": "code",
   "execution_count": 241,
   "metadata": {},
   "outputs": [],
   "source": [
    "def get_log_likelihood(T,Y): \n",
    "    return np.sum(T*np.log(Y) + (1-T)*np.log(1-Y))"
   ]
  },
  {
   "cell_type": "markdown",
   "metadata": {},
   "source": [
    "## XOR test  \n",
    "For some reason, ReLU activation function in hidden layer does not work sometimes... "
   ]
  },
  {
   "cell_type": "code",
   "execution_count": 269,
   "metadata": {},
   "outputs": [],
   "source": [
    "def test_xor(): \n",
    "    X = np.array([[0,0], [0,1], [1,0], [1,1]])\n",
    "    Y = np.array([0, 1, 1, 0])\n",
    "    M = 5 \n",
    "    W1 = np.random.randn(2, M)   # D=2, M=5 \n",
    "    b1 = np.random.randn(M)\n",
    "    W2 = np.random.randn(M)\n",
    "    b2 = np.random.randn(1) \n",
    "    \n",
    "    LL = [] # keep track of log likelifood \n",
    "    EE = [] # keep track of errors\n",
    "    learning_rate = 1e-1\n",
    "    regularization = 0. \n",
    "    for i in range(30000):\n",
    "        pY, Z = forward(X, W1, b1, W2, b2) \n",
    "        ll = get_log_likelihood( Y, pY ) \n",
    "        LL.append(ll) \n",
    "        \n",
    "        prediction = predict(X, W1, b1, W2, b2) \n",
    "        er = np.mean( prediction != Y ) \n",
    "        EE.append(er)\n",
    "        \n",
    "#        if er == 0:\n",
    "#            break\n",
    "        \n",
    "        # Gradiant Descent \n",
    "        W2 -= learning_rate * (derivative_w2(Z, Y, pY) + regularization * W2) \n",
    "        b2 -= learning_rate * (derivative_b2(Y, pY) + regularization * b2)\n",
    "        W1 -= learning_rate * (derivative_w1(X, Z, Y, pY, W2) + regularization * W1)\n",
    "        b1 -= learning_rate * (derivative_b1(Z, Y, pY, W2) + regularization * b1)\n",
    "        if i % 1000 == 0: \n",
    "            print(ll, er) \n",
    "    \n",
    "    print(\"final classification rate: \", np.mean(prediction == Y))\n",
    "    plt.figure(figsize=(8,4))\n",
    "    plt.plot(LL)\n",
    "    plt.figure(figsize=(8,4))\n",
    "    plt.plot(EE)\n",
    "    \n",
    "    return X, Y, W2, b2, W1, b1\n",
    "    "
   ]
  },
  {
   "cell_type": "code",
   "execution_count": 270,
   "metadata": {},
   "outputs": [
    {
     "name": "stdout",
     "output_type": "stream",
     "text": [
      "-9.593252450838165 0.5\n",
      "-0.01869864072022979 0.0\n",
      "-0.008396302979976237 0.0\n",
      "-0.005351986871469232 0.0\n",
      "-0.0039083433536886356 0.0\n",
      "-0.0030701293431823796 0.0\n",
      "-0.0025231288377423134 0.0\n",
      "-0.0021392277717201627 0.0\n",
      "-0.0018553464372590425 0.0\n",
      "-0.001636743383702428 0.0\n",
      "-0.0014635832956451733 0.0\n",
      "-0.0013230885531450927 0.0\n",
      "-0.0012068421123417185 0.0\n",
      "-0.0011091168340078364 0.0\n",
      "-0.0010258868430728172 0.0\n",
      "-0.0009540081394843358 0.0\n",
      "-0.0008913911412262859 0.0\n",
      "-0.0008364239590909428 0.0\n",
      "-0.0007877415571338102 0.0\n",
      "-0.0007443986353660306 0.0\n",
      "-0.0007054325259583072 0.0\n",
      "-0.0006702886570824443 0.0\n",
      "-0.000638492691868528 0.0\n",
      "-0.0006094707060265237 0.0\n",
      "-0.0005829724535086409 0.0\n",
      "-0.0005586733368086925 0.0\n",
      "-0.0005362410300153572 0.0\n",
      "-0.000515571000098451 0.0\n",
      "-0.0004963672012755479 0.0\n",
      "-0.00047854790790497056 0.0\n",
      "final classification rate:  1.0\n"
     ]
    },
    {
     "data": {
      "image/png": "[encoded data removed]",
      "text/plain": [
       "<matplotlib.figure.Figure at 0xc19fa90>"
      ]
     },
     "metadata": {},
     "output_type": "display_data"
    },
    {
     "data": {
      "image/png": "[encoded data removed]",
      "text/plain": [
       "<matplotlib.figure.Figure at 0x8197ba8>"
      ]
     },
     "metadata": {},
     "output_type": "display_data"
    }
   ],
   "source": [
    "X, Y, W2, b2, W1, b1 = test_xor()"
   ]
  },
  {
   "cell_type": "code",
   "execution_count": 249,
   "metadata": {},
   "outputs": [
    {
     "name": "stdout",
     "output_type": "stream",
     "text": [
      "[-5.48282939e-05 -1.10734719e-05  0.00000000e+00  0.00000000e+00\n",
      "  1.18751745e-04  1.06604659e-04  0.00000000e+00  0.00000000e+00]\n",
      "-1.5267211443456265e-05\n",
      "[[-2.99873852e-06 -6.32312141e-07  0.00000000e+00  0.00000000e+00\n",
      "   4.05477559e-06  0.00000000e+00  0.00000000e+00  0.00000000e+00]\n",
      " [-3.09241390e-06 -6.52064474e-07  0.00000000e+00  0.00000000e+00\n",
      "   4.18143973e-06  0.00000000e+00  0.00000000e+00  0.00000000e+00]]\n",
      "[-5.67675002e-05 -1.19699598e-05  0.00000000e+00  0.00000000e+00\n",
      "  2.13968665e-04 -1.82977365e-04  0.00000000e+00  0.00000000e+00]\n",
      "[[ 3.74681372e+00  7.53528336e-01 -0.00000000e+00 -0.00000000e+00\n",
      "  -0.00000000e+00  3.90624091e+00 -0.00000000e+00 -0.00000000e+00]\n",
      " [ 2.32446190e+00  3.59744438e-01 -0.00000000e+00 -0.00000000e+00\n",
      "   2.89970272e-05 -0.00000000e+00 -0.00000000e+00 -0.00000000e+00]\n",
      " [ 2.26860631e+00  6.25440569e-01 -0.00000000e+00 -0.00000000e+00\n",
      "   3.38717239e-05 -0.00000000e+00 -0.00000000e+00 -0.00000000e+00]\n",
      " [ 8.46254485e-01  2.31656671e-01 -0.00000000e+00 -0.00000000e+00\n",
      "   2.90211805e+00 -0.00000000e+00 -0.00000000e+00 -0.00000000e+00]]\n",
      "[[ 3.74681372e+00  7.53528336e-01 -1.54388242e+00 -1.23055321e+00\n",
      "  -2.90205519e+00  3.90624091e+00 -2.78536295e-01 -1.64405273e+00]\n",
      " [ 2.32446190e+00  3.59744438e-01 -1.25638450e+00 -2.27108782e+00\n",
      "   2.89970272e-05 -2.79161747e-05 -7.45059495e-01 -2.79782791e+00]\n",
      " [ 2.26860631e+00  6.25440569e-01 -4.71420502e-01 -7.51889381e-01\n",
      "   3.38717239e-05 -3.29121156e-05 -2.48627572e+00 -1.56467392e+00]\n",
      " [ 8.46254485e-01  2.31656671e-01 -1.83922584e-01 -1.79242398e+00\n",
      "   2.90211805e+00 -3.90630174e+00 -2.95279892e+00 -2.71844911e+00]]\n",
      "[[-1.47820742 -0.12808777  1.07246192  0.47866383  2.90208906 -3.90627382\n",
      "  -2.20773942  0.0793788 ]\n",
      " [-1.42235182 -0.3937839   0.28749792 -1.0405346   2.90208418 -3.90626882\n",
      "  -0.4665232  -1.15377518]]\n"
     ]
    }
   ],
   "source": [
    "pY, Z = forward(X, W1, b1, W2, b2)\n",
    "print(derivative_w2(Z, Y, pY))\n",
    "print(derivative_b2(Y, pY))\n",
    "print(derivative_w1(X, Z, Y, pY, W2))\n",
    "print(derivative_b1(Z, Y, pY, W2))\n",
    "print(Z)\n",
    "print( X.dot(W1) + b1 )\n",
    "print(W1)"
   ]
  },
  {
   "cell_type": "markdown",
   "metadata": {},
   "source": [
    "## Donut Test   \n",
    "ReLU tends to give better result than sigmoid. \n"
   ]
  },
  {
   "cell_type": "code",
   "execution_count": 161,
   "metadata": {},
   "outputs": [],
   "source": [
    "def test_donut():\n",
    "    N = 1000\n",
    "    R_inner = 5\n",
    "    R_outer = 10 \n",
    "    \n",
    "    R1 = np.random.randn(N//2) + R_inner\n",
    "    theta = 2*np.pi*np.random.random(N//2)\n",
    "    X_inner = np.concatenate([[R1 * np.cos(theta)], [R1 * np.sin(theta)]]).T\n",
    "\n",
    "    R2 = np.random.randn(N//2) + R_outer\n",
    "    theta = 2*np.pi*np.random.random(N//2)\n",
    "    X_outer = np.concatenate([[R2 * np.cos(theta)], [R2 * np.sin(theta)]]).T\n",
    "    \n",
    "    X = np.concatenate([ X_inner, X_outer ])\n",
    "    Y = np.array([0]*(N//2) + [1]*(N//2))\n",
    "    \n",
    "    n_hidden = 8\n",
    "    W1 = np.random.randn(2, n_hidden)\n",
    "    b1 = np.random.randn(n_hidden)\n",
    "    W2 = np.random.randn(n_hidden)\n",
    "    b2 = np.random.randn(1)\n",
    "    LL = [] # keep track of log-likelihoods\n",
    "    EE = [] \n",
    "    learning_rate = 0.00005\n",
    "    regularization = 0.2\n",
    "    for i in range(3000):\n",
    "        pY, Z = forward(X, W1, b1, W2, b2)\n",
    "        ll = get_log_likelihood(Y, pY)\n",
    "        prediction = predict(X, W1, b1, W2, b2)\n",
    "        er = np.abs(prediction - Y).mean()\n",
    "        LL.append(ll)\n",
    "        EE.append(er)\n",
    "        W2 -= learning_rate * (derivative_w2(Z, Y, pY) + regularization * W2)\n",
    "        b2 -= learning_rate * (derivative_b2(Y, pY) + regularization * b2)\n",
    "        W1 -= learning_rate * (derivative_w1(X, Z, Y, pY, W2) + regularization * W1)\n",
    "        b1 -= learning_rate * (derivative_b1(Z, Y, pY, W2) + regularization * b1)\n",
    "        if i % 300 == 0:\n",
    "            print(\"i:\", i, \"ll:\", ll, \"classification rate:\", 1 - er)    \n",
    "    \n",
    "    print(\"final classification rate: \", np.mean(prediction == Y))\n",
    "    plt.figure(figsize=(8,4))\n",
    "    plt.plot(LL)\n",
    "    plt.figure(figsize=(8,4))\n",
    "    plt.plot(EE)  "
   ]
  },
  {
   "cell_type": "code",
   "execution_count": 162,
   "metadata": {},
   "outputs": [
    {
     "name": "stdout",
     "output_type": "stream",
     "text": [
      "i: 0 ll: -1261.345155846189 classification rate: 0.5\n",
      "i: 300 ll: -642.9144246913894 classification rate: 0.642\n",
      "i: 600 ll: -611.9808270331503 classification rate: 0.706\n",
      "i: 900 ll: -584.4977172895094 classification rate: 0.71\n",
      "i: 1200 ll: -558.339245071824 classification rate: 0.777\n",
      "i: 1500 ll: -531.8700215868064 classification rate: 0.806\n",
      "i: 1800 ll: -503.82650074376954 classification rate: 0.867\n",
      "i: 2100 ll: -471.5543230359425 classification rate: 0.895\n",
      "i: 2400 ll: -434.94621531021005 classification rate: 0.937\n",
      "i: 2700 ll: -398.47284153248387 classification rate: 0.965\n",
      "final classification rate:  0.966\n"
     ]
    },
    {
     "data": {
      "image/png": "[encoded data removed]",
      "text/plain": [
       "<matplotlib.figure.Figure at 0x84bd278>"
      ]
     },
     "metadata": {},
     "output_type": "display_data"
    },
    {
     "data": {
      "image/png": "[encoded data removed]",
      "text/plain": [
       "<matplotlib.figure.Figure at 0x9d89470>"
      ]
     },
     "metadata": {},
     "output_type": "display_data"
    }
   ],
   "source": [
    "test_donut()"
   ]
  }
 ],
 "metadata": {
  "kernelspec": {
   "display_name": "Python 3",
   "language": "python",
   "name": "python3"
  },
  "language_info": {
   "codemirror_mode": {
    "name": "ipython",
    "version": 3
   },
   "file_extension": ".py",
   "mimetype": "text/x-python",
   "name": "python",
   "nbconvert_exporter": "python",
   "pygments_lexer": "ipython3",
   "version": "3.6.4"
  },
  "varInspector": {
   "cols": {
    "lenName": 16,
    "lenType": 16,
    "lenVar": 40
   },
   "kernels_config": {
    "python": {
     "delete_cmd_postfix": "",
     "delete_cmd_prefix": "del ",
     "library": "var_list.py",
     "varRefreshCmd": "print(var_dic_list())"
    },
    "r": {
     "delete_cmd_postfix": ") ",
     "delete_cmd_prefix": "rm(",
     "library": "var_list.r",
     "varRefreshCmd": "cat(var_dic_list()) "
    }
   },
   "types_to_exclude": [
    "module",
    "function",
    "builtin_function_or_method",
    "instance",
    "_Feature"
   ],
   "window_display": false
  }
 },
 "nbformat": 4,
 "nbformat_minor": 2
}
