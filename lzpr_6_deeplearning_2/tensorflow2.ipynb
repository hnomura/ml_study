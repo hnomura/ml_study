{
 "cells": [
  {
   "cell_type": "markdown",
   "metadata": {},
   "source": [
    "# TensorFlow ANN basic pattern   \n",
    "\n",
    "```  \n",
    "import tensorflow as tf \n",
    "\n",
    "# input layer NxD \n",
    "# hidden layer DxM \n",
    "# output layer MxK \n",
    "\n",
    "# Initial value for weights/biases\n",
    "W1_init = np.randam.randn(D,M) / np.sqrt(D) \n",
    "b1_init = np.zero(M)\n",
    "W2_init = np.random.randn(M,K) / np.sqrt(M) \n",
    "b2_init = np.zero(K)\n",
    "\n",
    "# Define input and target as placeholders \n",
    "X = tf.placeholder(tf.float32, shape=(None,D), name='X') \n",
    "T = tf.placeholder(tf.float32, shape=(None,K), name='T') \n",
    "\n",
    "# Weights/biases as V Variables (with initial value in float32 value type) \n",
    "W1 = tf.Variable(W1_init.astype(np.float32)) \n",
    "b1 = tf.Variable(b1_init.astype(np.float32)) \n",
    "W2 = tf.Variable(W2_init.astype(np.float32)) \n",
    "b2 = tf.Variable(b2_init.astype(np.float32)) \n",
    "\n",
    "# Define network model \n",
    "Z = tf.nn.relu( tf.matmul(X, W1) + b1 ) \n",
    "Yish = tf.matmul(Z,W2) + b2   # NOTE: do not take softmax()!  It is in cost definition \n",
    "\n",
    "# Define cost \n",
    "# Note that softmax_cross_entropy_with_logits (softmax) is in this part.  \n",
    "# Regularization (L2) must be given as a part of cost..  \n",
    "cost = tf.reduce_sum(tf.nn.softmax_cross_entropy_with_logits(logits=Yish, labels=T)) \n",
    "       + reg * (tf.reduce_sum(W1*W1) + tf.reduce_sum(b1*b1) * tf.reduce_sum(W2*W2) + tf.reduce_sum(b2*b2) )  \n",
    "      \n",
    "# Define train operation \n",
    "# TF has various optimizers, and select the one to use.  \n",
    "# Then chain .minimize(cost).  \n",
    "# No need to define weight update logic (come with selection of optimizer) \n",
    "traion_op = tf.train.RMSPropOptimizer( lr, decay=0.99, momentum=0.9 ).minimize(cost) \n",
    "\n",
    "# Define predict operation \n",
    "# Since using argmax(), this is equivalent to argmax(softmax(Yish)).... \n",
    "predict_op = tf.argmax(Yish, 1) \n",
    "\n",
    "# Boilerplate: Make it ready to initialize global variables, then start session, followed by initialize session \n",
    "init = tf.global_variables_initializer()\n",
    "with tf.Session() as session: \n",
    "    session.run(init) \n",
    "    \n",
    "    # training loop \n",
    "    for i in range(xxxx): \n",
    "        # take Xbatch and Ybatch as training data batch \n",
    "        # then execute train operation \n",
    "        # Data assignment to placeholder is via feed_dict dictionary \n",
    "        session.run( train_op, feed_dict={X: Xbatch, Y: Ybatch} ) \n",
    "        \n",
    "        # execute cost calculation on test data (Ytest_ind is one-hot-encoded vector) \n",
    "        test_cost = session.run( cost, feed_dict{X: Xtest, T: Ytest_ind} ) \n",
    "        \n",
    "        # execute predict on test data \n",
    "        prediction = session.run( predict_op, feed_dict{X: Xtest} )\n",
    "        \n",
    "        # calculate error rate (usual function call, Ytest is label integer value before one-hot-encoding)  \n",
    "        err = np.mean(prediction != Ytest)\n",
    "\n",
    "\n",
    "```"
   ]
  }
 ],
 "metadata": {
  "kernelspec": {
   "display_name": "Python 3",
   "language": "python",
   "name": "python3"
  },
  "language_info": {
   "codemirror_mode": {
    "name": "ipython",
    "version": 3
   },
   "file_extension": ".py",
   "mimetype": "text/x-python",
   "name": "python",
   "nbconvert_exporter": "python",
   "pygments_lexer": "ipython3",
   "version": "3.6.4"
  },
  "varInspector": {
   "cols": {
    "lenName": 16,
    "lenType": 16,
    "lenVar": 40
   },
   "kernels_config": {
    "python": {
     "delete_cmd_postfix": "",
     "delete_cmd_prefix": "del ",
     "library": "var_list.py",
     "varRefreshCmd": "print(var_dic_list())"
    },
    "r": {
     "delete_cmd_postfix": ") ",
     "delete_cmd_prefix": "rm(",
     "library": "var_list.r",
     "varRefreshCmd": "cat(var_dic_list()) "
    }
   },
   "types_to_exclude": [
    "module",
    "function",
    "builtin_function_or_method",
    "instance",
    "_Feature"
   ],
   "window_display": false
  }
 },
 "nbformat": 4,
 "nbformat_minor": 2
}
