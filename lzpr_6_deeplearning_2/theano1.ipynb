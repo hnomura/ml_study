{
 "cells": [
  {
   "cell_type": "markdown",
   "metadata": {},
   "source": [
    "# Theano Introduction"
   ]
  },
  {
   "cell_type": "markdown",
   "metadata": {},
   "source": [
    "## Basic  \n",
    "Build computation graph, assign values later and get result.  "
   ]
  },
  {
   "cell_type": "code",
   "execution_count": 1,
   "metadata": {},
   "outputs": [],
   "source": [
    "import theano.tensor as T "
   ]
  },
  {
   "cell_type": "code",
   "execution_count": 2,
   "metadata": {},
   "outputs": [],
   "source": [
    "c = T.scalar('c')\n",
    "v = T.vector('v')\n",
    "A = T.matrix('A')\n",
    "\n",
    "w = A.dot(v) + c"
   ]
  },
  {
   "cell_type": "code",
   "execution_count": 4,
   "metadata": {},
   "outputs": [],
   "source": [
    "import theano \n",
    "\n",
    "forward = theano.function(inputs=[A,v,c], outputs=w)"
   ]
  },
  {
   "cell_type": "code",
   "execution_count": 8,
   "metadata": {},
   "outputs": [
    {
     "name": "stdout",
     "output_type": "stream",
     "text": [
      "[18. 40.]\n"
     ]
    }
   ],
   "source": [
    "import numpy as np\n",
    "\n",
    "c_val = 1.0\n",
    "A_val = np.array([[1,2],[3,4]])\n",
    "v_val = np.array([5,6])\n",
    "\n",
    "w_val = forward(A_val, v_val, c_val) \n",
    "print(w_val)"
   ]
  },
  {
   "cell_type": "code",
   "execution_count": 11,
   "metadata": {},
   "outputs": [
    {
     "name": "stdout",
     "output_type": "stream",
     "text": [
      "[18. 40.]\n"
     ]
    }
   ],
   "source": [
    "# Just to make sure... \n",
    "print( A_val.dot(v_val) + c_val)"
   ]
  },
  {
   "cell_type": "markdown",
   "metadata": {},
   "source": [
    "## Recursive update and Gradient "
   ]
  },
  {
   "cell_type": "code",
   "execution_count": 27,
   "metadata": {},
   "outputs": [
    {
     "name": "stdout",
     "output_type": "stream",
     "text": [
      "cost=  421.0\n",
      "cost=  67.99000000000001\n",
      "cost=  11.508400000000005\n",
      "cost=  2.471344000000001\n",
      "cost=  1.0254150400000002\n",
      "cost=  0.7940664064\n",
      "cost=  0.7570506250239999\n",
      "cost=  0.75112810000384\n",
      "cost=  0.7501804960006143\n",
      "cost=  0.7500288793600982\n",
      "cost=  0.7500046206976159\n",
      "cost=  0.7500007393116186\n",
      "cost=  0.7500001182898588\n",
      "cost=  0.7500000189263775\n",
      "cost=  0.7500000030282203\n",
      "cost=  0.7500000004845152\n",
      "cost=  0.7500000000775225\n",
      "cost=  0.7500000000124035\n",
      "cost=  0.7500000000019845\n",
      "cost=  0.7500000000003176\n",
      "x =  -0.4999997746001163\n"
     ]
    }
   ],
   "source": [
    "x = theano.shared(20.0, 'x') # initial value = 20.0\n",
    "\n",
    "# dummy cost as a function of x (e.g., weights)\n",
    "# cost = x^2 + x + 1 \n",
    "# derivetive = (2x+1) --> 0 \n",
    "cost = x*x + x + 1    \n",
    "\n",
    "# gradient descent to make cost --> minimum, i.e,, d(cost)/dx --> 0 \n",
    "# d(cost/d(x) = grad(cost,x)\n",
    "# learning rate = 0.3 \n",
    "x_update = x - 0.3*T.grad(cost,x) \n",
    "\n",
    "# dummy train operation (computation graph)\n",
    "# updates=[ (x, x_update) ] : x <- x_update recursively \n",
    "train = theano.function(inputs=[], outputs=cost, updates=[(x, x_update)])\n",
    "\n",
    "for _ in range(20): \n",
    "    cost_val = train() \n",
    "    print('cost= ', cost_val) \n",
    "\n",
    "print('x = ', x.get_value())"
   ]
  },
  {
   "cell_type": "code",
   "execution_count": 29,
   "metadata": {},
   "outputs": [
    {
     "name": "stdout",
     "output_type": "stream",
     "text": [
      "<class 'theano.tensor.sharedvar.ScalarSharedVariable'> <class 'theano.tensor.var.TensorVariable'>\n"
     ]
    },
    {
     "data": {
      "text/plain": [
       "array(20.)"
      ]
     },
     "execution_count": 29,
     "metadata": {},
     "output_type": "execute_result"
    }
   ],
   "source": [
    "print(type(x), type(x_update))\n",
    "x.set_value(20)\n",
    "x.get_value()\n"
   ]
  }
 ],
 "metadata": {
  "kernelspec": {
   "display_name": "Python 3",
   "language": "python",
   "name": "python3"
  },
  "language_info": {
   "codemirror_mode": {
    "name": "ipython",
    "version": 3
   },
   "file_extension": ".py",
   "mimetype": "text/x-python",
   "name": "python",
   "nbconvert_exporter": "python",
   "pygments_lexer": "ipython3",
   "version": "3.6.4"
  },
  "varInspector": {
   "cols": {
    "lenName": 16,
    "lenType": 16,
    "lenVar": 40
   },
   "kernels_config": {
    "python": {
     "delete_cmd_postfix": "",
     "delete_cmd_prefix": "del ",
     "library": "var_list.py",
     "varRefreshCmd": "print(var_dic_list())"
    },
    "r": {
     "delete_cmd_postfix": ") ",
     "delete_cmd_prefix": "rm(",
     "library": "var_list.r",
     "varRefreshCmd": "cat(var_dic_list()) "
    }
   },
   "types_to_exclude": [
    "module",
    "function",
    "builtin_function_or_method",
    "instance",
    "_Feature"
   ],
   "window_display": false
  }
 },
 "nbformat": 4,
 "nbformat_minor": 2
}
